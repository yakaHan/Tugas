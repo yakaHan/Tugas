{
  "nbformat": 4,
  "nbformat_minor": 0,
  "metadata": {
    "colab": {
      "provenance": [],
      "include_colab_link": true
    },
    "kernelspec": {
      "name": "python3",
      "display_name": "Python 3"
    },
    "language_info": {
      "name": "python"
    }
  },
  "cells": [
    {
      "cell_type": "markdown",
      "metadata": {
        "id": "view-in-github",
        "colab_type": "text"
      },
      "source": [
        "<a href=\"https://colab.research.google.com/github/yakaHan/Tugas/blob/main/Tugas_Module_7_Big_Data_Fundamental_ResponsiCOPY.ipynb\" target=\"_parent\"><img src=\"https://colab.research.google.com/assets/colab-badge.svg\" alt=\"Open In Colab\"/></a>"
      ]
    },
    {
      "cell_type": "markdown",
      "source": [
        "## TUGAS MODULE 7 BIGDATA FUNDAMENTAL RESPONSI\n",
        "\n",
        "\n",
        "### Isikan data diri\n",
        "*   Nama : Nayaka Hananadhif Adinata\n",
        "*   Nim : 23.01.5022"
      ],
      "metadata": {
        "id": "_mEFGp4BP4B2"
      }
    },
    {
      "cell_type": "markdown",
      "source": [
        "####BRIEF:\n",
        "Analisis Kinerja Penjualan Toko Retail Sederhana\n",
        "####Dataset: https://www.kaggle.com/datasets/bravehart101/sample-supermarket-dataset\n",
        "\n",
        "Tugas yang Harus Diselesaikan:\n",
        "* Preprocessing Data (Sederhana)\n",
        "* EDA (Exploratory Data Analysis)\n",
        "* Pertanyaan Analitis\n",
        "\n"
      ],
      "metadata": {
        "id": "Af-7E1QuJW2X"
      }
    },
    {
      "cell_type": "code",
      "source": [
        "from google.colab import drive\n",
        "drive.mount('/content/drive')"
      ],
      "metadata": {
        "colab": {
          "base_uri": "https://localhost:8080/"
        },
        "id": "3qlK6oVeSs6t",
        "outputId": "4c365a3b-dd64-4650-c089-b269b0fb4ff6"
      },
      "execution_count": 1,
      "outputs": [
        {
          "output_type": "stream",
          "name": "stdout",
          "text": [
            "Mounted at /content/drive\n"
          ]
        }
      ]
    },
    {
      "cell_type": "code",
      "source": [
        "import pandas as pd"
      ],
      "metadata": {
        "id": "pHbyiYNGTQPi"
      },
      "execution_count": 5,
      "outputs": []
    },
    {
      "cell_type": "code",
      "source": [
        "df = pd.read_csv('/content/drive/MyDrive/SampleSuperstore.csv')"
      ],
      "metadata": {
        "id": "xaWazJDKTZWg"
      },
      "execution_count": 3,
      "outputs": []
    },
    {
      "cell_type": "code",
      "source": [
        "print(df.info())"
      ],
      "metadata": {
        "colab": {
          "base_uri": "https://localhost:8080/"
        },
        "id": "K-98jbiATidS",
        "outputId": "e6c13510-0f0d-4954-a100-5af327bc6a19"
      },
      "execution_count": 4,
      "outputs": [
        {
          "output_type": "stream",
          "name": "stdout",
          "text": [
            "<class 'pandas.core.frame.DataFrame'>\n",
            "RangeIndex: 9994 entries, 0 to 9993\n",
            "Data columns (total 13 columns):\n",
            " #   Column        Non-Null Count  Dtype  \n",
            "---  ------        --------------  -----  \n",
            " 0   Ship Mode     9994 non-null   object \n",
            " 1   Segment       9994 non-null   object \n",
            " 2   Country       9994 non-null   object \n",
            " 3   City          9994 non-null   object \n",
            " 4   State         9994 non-null   object \n",
            " 5   Postal Code   9994 non-null   int64  \n",
            " 6   Region        9994 non-null   object \n",
            " 7   Category      9994 non-null   object \n",
            " 8   Sub-Category  9994 non-null   object \n",
            " 9   Sales         9994 non-null   float64\n",
            " 10  Quantity      9994 non-null   int64  \n",
            " 11  Discount      9994 non-null   float64\n",
            " 12  Profit        9994 non-null   float64\n",
            "dtypes: float64(3), int64(2), object(8)\n",
            "memory usage: 1015.1+ KB\n",
            "None\n"
          ]
        }
      ]
    },
    {
      "cell_type": "code",
      "source": [
        "import numpy as np\n",
        "\n",
        "# a. Cek missing values\n",
        "print(\"Missing values:\\n\", df.isnull().sum())\n",
        "\n",
        "# b. Handle missing values\n",
        "df.fillna(0, inplace=True)\n",
        "\n",
        "# c. Cek duplikat\n",
        "print(\"Duplikat:\", df.duplicated().sum())\n",
        "df.drop_duplicates(inplace=True)"
      ],
      "metadata": {
        "colab": {
          "base_uri": "https://localhost:8080/"
        },
        "id": "DNFDpZ-zUgbi",
        "outputId": "5808caa0-859c-4127-9b4e-7d8a89ea1e8f"
      },
      "execution_count": 11,
      "outputs": [
        {
          "output_type": "stream",
          "name": "stdout",
          "text": [
            "Missing values:\n",
            " Ship Mode       0\n",
            "Segment         0\n",
            "Country         0\n",
            "City            0\n",
            "State           0\n",
            "Postal Code     0\n",
            "Region          0\n",
            "Category        0\n",
            "Sub-Category    0\n",
            "Sales           0\n",
            "Quantity        0\n",
            "Discount        0\n",
            "Profit          0\n",
            "dtype: int64\n",
            "Duplikat: 0\n"
          ]
        }
      ]
    },
    {
      "source": [
        "import matplotlib.pyplot as plt\n",
        "import seaborn as sns\n",
        "# b. Distribusi penjualan per produk\n",
        "plt.figure(figsize=(10, 6))\n",
        "sns.barplot(x='Sub-Category', y='Sales', data=df.groupby('Sub-Category')['Sales'].sum().reset_index().sort_values('Sales', ascending=False).head(10))\n",
        "plt.xticks(rotation=45)\n",
        "plt.title('Top 10 Produk Terlaris')\n",
        "plt.show()\n",
        "\n",
        "# c. Pola pembelian per customer type\n",
        "sns.countplot(x='Segment', data=df)\n",
        "plt.title('Distribusi Tipe Pelanggan')\n",
        "plt.show()\n",
        "\n",
        "# d. Korelasi antar variabel numerik\n",
        "sns.heatmap(df[['Quantity', 'Profit', 'Sales']].corr(), annot=True)\n",
        "plt.title('Heatmap Korelasi')\n",
        "plt.show()"
      ],
      "cell_type": "code",
      "metadata": {
        "colab": {
          "base_uri": "https://localhost:8080/",
          "height": 1000
        },
        "id": "5kjSlO-dXSFB",
        "outputId": "3578cbd6-b478-4e97-e5ed-c1e017738319"
      },
      "execution_count": 26,
      "outputs": [
        {
          "output_type": "display_data",
          "data": {
            "text/plain": [
              "<Figure size 1000x600 with 1 Axes>"
            ],
            "image/png": "[encoded data removed]"
          },
          "metadata": {}
        },
        {
          "output_type": "display_data",
          "data": {
            "text/plain": [
              "<Figure size 640x480 with 1 Axes>"
            ],
            "image/png": "[encoded data removed]"
          },
          "metadata": {}
        },
        {
          "output_type": "display_data",
          "data": {
            "text/plain": [
              "<Figure size 640x480 with 2 Axes>"
            ],
            "image/png": "[encoded data removed]"
          },
          "metadata": {}
        }
      ]
    },
    {
      "cell_type": "markdown",
      "source": [
        "Q1: Produk apa yang paling menguntungkan?"
      ],
      "metadata": {
        "id": "yFllrHx3aPVv"
      }
    },
    {
      "cell_type": "code",
      "source": [
        "profit_product = df.groupby('Category')['Sales'].sum().sort_values(ascending=False).head(1)\n",
        "print(\"Produk paling menguntungkan:\", profit_product.index[0])"
      ],
      "metadata": {
        "colab": {
          "base_uri": "https://localhost:8080/"
        },
        "id": "T6RsrhVxaQRt",
        "outputId": "34806262-3fc5-4958-9b50-c6d306466fcc"
      },
      "execution_count": 23,
      "outputs": [
        {
          "output_type": "stream",
          "name": "stdout",
          "text": [
            "Produk paling menguntungkan: Technology\n"
          ]
        }
      ]
    },
    {
      "cell_type": "markdown",
      "source": [
        "Q2: Tipe Pelanggan apa yang sering Membeli?"
      ],
      "metadata": {
        "id": "KMEwdcAQaeQ5"
      }
    },
    {
      "cell_type": "code",
      "source": [
        "member_stats = df.groupby('Segment')['Quantity'].sum()\n",
        "print(\"Perbandingan pembelian:\\n\", member_stats)"
      ],
      "metadata": {
        "colab": {
          "base_uri": "https://localhost:8080/"
        },
        "id": "NhUELkqsalVE",
        "outputId": "6002cb65-68db-45ba-9384-5dadd9765529"
      },
      "execution_count": 34,
      "outputs": [
        {
          "output_type": "stream",
          "name": "stdout",
          "text": [
            "Perbandingan pembelian:\n",
            " Segment\n",
            "Consumer       19497\n",
            "Corporate      11591\n",
            "Home Office     6732\n",
            "Name: Quantity, dtype: int64\n"
          ]
        }
      ]
    },
    {
      "cell_type": "markdown",
      "source": [
        "Q3 : Apakah bisa melihat perbandingan quantity penjualan tiap kota?"
      ],
      "metadata": {
        "id": "uMuMsc9Tbcp3"
      }
    },
    {
      "cell_type": "code",
      "source": [
        "member_stats = df.groupby('City')['Quantity'].sum()\n",
        "print(\"Perbandingan pembelian (seluruh kota):\")\n",
        "for city, total_quantity in member_stats.items():\n",
        "    print(f\"{city}: {total_quantity}\")"
      ],
      "metadata": {
        "colab": {
          "base_uri": "https://localhost:8080/"
        },
        "id": "RU_VVQRYbdkh",
        "outputId": "9a5c99e0-67a3-4d34-c55b-265b0a58d4dc"
      },
      "execution_count": 40,
      "outputs": [
        {
          "output_type": "stream",
          "name": "stdout",
          "text": [
            "Perbandingan pembelian (seluruh kota):\n",
            "Aberdeen: 3\n",
            "Abilene: 2\n",
            "Akron: 65\n",
            "Albuquerque: 65\n",
            "Alexandria: 84\n",
            "Allen: 13\n",
            "Allentown: 20\n",
            "Altoona: 9\n",
            "Amarillo: 32\n",
            "Anaheim: 112\n",
            "Andover: 13\n",
            "Ann Arbor: 23\n",
            "Antioch: 3\n",
            "Apopka: 31\n",
            "Apple Valley: 32\n",
            "Appleton: 12\n",
            "Arlington: 259\n",
            "Arlington Heights: 6\n",
            "Arvada: 10\n",
            "Asheville: 28\n",
            "Athens: 30\n",
            "Atlanta: 156\n",
            "Atlantic City: 2\n",
            "Auburn: 80\n",
            "Aurora: 258\n",
            "Austin: 131\n",
            "Avondale: 30\n",
            "Bakersfield: 47\n",
            "Baltimore: 184\n",
            "Bangor: 29\n",
            "Bartlett: 8\n",
            "Bayonne: 9\n",
            "Baytown: 2\n",
            "Beaumont: 21\n",
            "Bedford: 25\n",
            "Belleville: 32\n",
            "Bellevue: 18\n",
            "Bellingham: 24\n",
            "Bethlehem: 18\n",
            "Beverly: 15\n",
            "Billings: 2\n",
            "Bloomington: 58\n",
            "Boca Raton: 8\n",
            "Boise: 9\n",
            "Bolingbrook: 23\n",
            "Bossier City: 24\n",
            "Bowling Green: 30\n",
            "Boynton Beach: 28\n",
            "Bozeman: 5\n",
            "Brentwood: 66\n",
            "Bridgeton: 6\n",
            "Bristol: 31\n",
            "Broken Arrow: 17\n",
            "Broomfield: 23\n",
            "Brownsville: 27\n",
            "Bryan: 27\n",
            "Buffalo: 46\n",
            "Buffalo Grove: 10\n",
            "Bullhead City: 3\n",
            "Burbank: 13\n",
            "Burlington: 105\n",
            "Caldwell: 11\n",
            "Camarillo: 16\n",
            "Cambridge: 19\n",
            "Canton: 13\n",
            "Carlsbad: 35\n",
            "Carol Stream: 18\n",
            "Carrollton: 50\n",
            "Cary: 19\n",
            "Cedar Hill: 6\n",
            "Cedar Rapids: 3\n",
            "Champaign: 5\n",
            "Chandler: 23\n",
            "Chapel Hill: 3\n",
            "Charlotte: 243\n",
            "Charlottesville: 7\n",
            "Chattanooga: 38\n",
            "Chesapeake: 72\n",
            "Chester: 55\n",
            "Cheyenne: 4\n",
            "Chicago: 1129\n",
            "Chico: 43\n",
            "Chula Vista: 13\n",
            "Cincinnati: 58\n",
            "Citrus Heights: 3\n",
            "Clarksville: 27\n",
            "Cleveland: 138\n",
            "Clifton: 9\n",
            "Clinton: 119\n",
            "Clovis: 10\n",
            "Coachella: 3\n",
            "College Station: 19\n",
            "Colorado Springs: 110\n",
            "Columbia: 316\n",
            "Columbus: 834\n",
            "Commerce City: 3\n",
            "Concord: 134\n",
            "Conroe: 9\n",
            "Conway: 2\n",
            "Coon Rapids: 7\n",
            "Coppell: 17\n",
            "Coral Gables: 6\n",
            "Coral Springs: 21\n",
            "Corpus Christi: 33\n",
            "Costa Mesa: 42\n",
            "Cottage Grove: 6\n",
            "Covington: 20\n",
            "Cranston: 52\n",
            "Cuyahoga Falls: 13\n",
            "Dallas: 555\n",
            "Danbury: 2\n",
            "Danville: 38\n",
            "Davis: 5\n",
            "Daytona Beach: 10\n",
            "Dearborn: 23\n",
            "Dearborn Heights: 19\n",
            "Decatur: 129\n",
            "Deer Park: 6\n",
            "Delray Beach: 11\n",
            "Deltona: 19\n",
            "Denver: 164\n",
            "Des Moines: 60\n",
            "Des Plaines: 24\n",
            "Detroit: 438\n",
            "Dover: 75\n",
            "Draper: 13\n",
            "Dublin: 56\n",
            "Dubuque: 18\n",
            "Durham: 33\n",
            "Eagan: 22\n",
            "East Orange: 20\n",
            "East Point: 7\n",
            "Eau Claire: 21\n",
            "Edinburg: 11\n",
            "Edmond: 9\n",
            "Edmonds: 42\n",
            "El Cajon: 6\n",
            "El Paso: 65\n",
            "Elkhart: 7\n",
            "Elmhurst: 14\n",
            "Elyria: 1\n",
            "Encinitas: 13\n",
            "Englewood: 6\n",
            "Escondido: 9\n",
            "Eugene: 23\n",
            "Evanston: 11\n",
            "Everett: 84\n",
            "Fairfield: 185\n",
            "Fargo: 30\n",
            "Farmington: 11\n",
            "Fayetteville: 168\n",
            "Florence: 91\n",
            "Fort Collins: 20\n",
            "Fort Lauderdale: 65\n",
            "Fort Worth: 102\n",
            "Frankfort: 10\n",
            "Franklin: 139\n",
            "Freeport: 29\n",
            "Fremont: 33\n",
            "Fresno: 106\n",
            "Frisco: 10\n",
            "Gaithersburg: 5\n",
            "Garden City: 8\n",
            "Garland: 12\n",
            "Gastonia: 16\n",
            "Georgetown: 35\n",
            "Gilbert: 58\n",
            "Gladstone: 5\n",
            "Glendale: 67\n",
            "Glenview: 3\n",
            "Goldsboro: 3\n",
            "Grand Island: 2\n",
            "Grand Prairie: 45\n",
            "Grand Rapids: 31\n",
            "Grapevine: 12\n",
            "Great Falls: 30\n",
            "Greeley: 5\n",
            "Green Bay: 14\n",
            "Greensboro: 50\n",
            "Greenville: 27\n",
            "Greenwood: 19\n",
            "Gresham: 28\n",
            "Grove City: 12\n",
            "Gulfport: 20\n",
            "Hackensack: 28\n",
            "Hagerstown: 6\n",
            "Haltom City: 13\n",
            "Hamilton: 13\n",
            "Hampton: 48\n",
            "Harlingen: 21\n",
            "Harrisonburg: 25\n",
            "Hattiesburg: 38\n",
            "Helena: 17\n",
            "Hempstead: 51\n",
            "Henderson: 198\n",
            "Hendersonville: 22\n",
            "Hesperia: 18\n",
            "Hialeah: 76\n",
            "Hickory: 5\n",
            "Highland Park: 28\n",
            "Hillsboro: 14\n",
            "Holland: 11\n",
            "Hollywood: 44\n",
            "Holyoke: 2\n",
            "Homestead: 5\n",
            "Hoover: 15\n",
            "Hot Springs: 15\n",
            "Houston: 1460\n",
            "Huntington Beach: 19\n",
            "Huntsville: 161\n",
            "Independence: 6\n",
            "Indianapolis: 95\n",
            "Inglewood: 53\n",
            "Iowa City: 1\n",
            "Irving: 23\n",
            "Jackson: 318\n",
            "Jacksonville: 429\n",
            "Jamestown: 9\n",
            "Jefferson City: 2\n",
            "Johnson City: 43\n",
            "Jonesboro: 53\n",
            "Jupiter: 1\n",
            "Keller: 2\n",
            "Kenner: 4\n",
            "Kenosha: 37\n",
            "Kent: 48\n",
            "Kirkwood: 7\n",
            "Kissimmee: 2\n",
            "Knoxville: 81\n",
            "La Crosse: 22\n",
            "La Mesa: 8\n",
            "La Porte: 39\n",
            "La Quinta: 4\n",
            "Lafayette: 104\n",
            "Laguna Niguel: 15\n",
            "Lake Charles: 16\n",
            "Lake Elsinore: 5\n",
            "Lake Forest: 17\n",
            "Lakeland: 74\n",
            "Lakeville: 84\n",
            "Lakewood: 204\n",
            "Lancaster: 171\n",
            "Lansing: 25\n",
            "Laredo: 37\n",
            "Las Cruces: 9\n",
            "Las Vegas: 61\n",
            "Laurel: 5\n",
            "Lawrence: 166\n",
            "Lawton: 13\n",
            "Layton: 4\n",
            "League City: 25\n",
            "Lebanon: 14\n",
            "Lehi: 8\n",
            "Leominster: 20\n",
            "Lewiston: 7\n",
            "Lincoln Park: 11\n",
            "Linden: 7\n",
            "Lindenhurst: 1\n",
            "Little Rock: 90\n",
            "Littleton: 1\n",
            "Lodi: 9\n",
            "Logan: 21\n",
            "Long Beach: 256\n",
            "Longmont: 10\n",
            "Longview: 10\n",
            "Lorain: 35\n",
            "Los Angeles: 2876\n",
            "Louisville: 221\n",
            "Loveland: 8\n",
            "Lowell: 60\n",
            "Lubbock: 22\n",
            "Macon: 24\n",
            "Madison: 37\n",
            "Malden: 9\n",
            "Manchester: 42\n",
            "Manhattan: 2\n",
            "Mansfield: 13\n",
            "Manteca: 8\n",
            "Maple Grove: 13\n",
            "Margate: 3\n",
            "Marietta: 33\n",
            "Marion: 63\n",
            "Marlborough: 6\n",
            "Marysville: 15\n",
            "Mason: 7\n",
            "Mcallen: 54\n",
            "Medford: 10\n",
            "Medina: 38\n",
            "Melbourne: 2\n",
            "Memphis: 116\n",
            "Mentor: 15\n",
            "Meriden: 32\n",
            "Meridian: 11\n",
            "Mesa: 128\n",
            "Mesquite: 14\n",
            "Miami: 215\n",
            "Middletown: 28\n",
            "Midland: 39\n",
            "Milford: 30\n",
            "Milwaukee: 201\n",
            "Minneapolis: 80\n",
            "Miramar: 41\n",
            "Mishawaka: 11\n",
            "Mission Viejo: 18\n",
            "Missoula: 2\n",
            "Missouri City: 7\n",
            "Mobile: 52\n",
            "Modesto: 10\n",
            "Monroe: 73\n",
            "Montebello: 2\n",
            "Montgomery: 48\n",
            "Moorhead: 9\n",
            "Moreno Valley: 42\n",
            "Morgan Hill: 16\n",
            "Morristown: 31\n",
            "Mount Pleasant: 8\n",
            "Mount Vernon: 33\n",
            "Murfreesboro: 30\n",
            "Murray: 23\n",
            "Murrieta: 3\n",
            "Muskogee: 14\n",
            "Naperville: 33\n",
            "Nashua: 10\n",
            "Nashville: 114\n",
            "New Albany: 15\n",
            "New Bedford: 22\n",
            "New Brunswick: 3\n",
            "New Castle: 9\n",
            "New Rochelle: 27\n",
            "New York City: 3413\n",
            "Newark: 362\n",
            "Newport News: 43\n",
            "Niagara Falls: 12\n",
            "Noblesville: 15\n",
            "Norfolk: 3\n",
            "Normal: 4\n",
            "Norman: 9\n",
            "North Charleston: 5\n",
            "North Las Vegas: 58\n",
            "North Miami: 6\n",
            "Norwich: 12\n",
            "Oak Park: 12\n",
            "Oakland: 107\n",
            "Oceanside: 107\n",
            "Odessa: 22\n",
            "Oklahoma City: 78\n",
            "Olathe: 15\n",
            "Olympia: 15\n",
            "Omaha: 98\n",
            "Ontario: 5\n",
            "Orange: 17\n",
            "Orem: 32\n",
            "Orland Park: 5\n",
            "Orlando: 39\n",
            "Ormond Beach: 3\n",
            "Oswego: 13\n",
            "Overland Park: 23\n",
            "Owensboro: 5\n",
            "Oxnard: 31\n",
            "Palatine: 7\n",
            "Palm Coast: 20\n",
            "Park Ridge: 17\n",
            "Parker: 24\n",
            "Parma: 40\n",
            "Pasadena: 156\n",
            "Pasco: 27\n",
            "Passaic: 24\n",
            "Paterson: 62\n",
            "Pearland: 13\n",
            "Pembroke Pines: 47\n",
            "Pensacola: 3\n",
            "Peoria: 80\n",
            "Perth Amboy: 22\n",
            "Pharr: 22\n",
            "Philadelphia: 1978\n",
            "Phoenix: 224\n",
            "Pico Rivera: 5\n",
            "Pine Bluff: 7\n",
            "Plainfield: 49\n",
            "Plano: 48\n",
            "Plantation: 45\n",
            "Pleasant Grove: 30\n",
            "Pocatello: 25\n",
            "Pomona: 34\n",
            "Pompano Beach: 12\n",
            "Port Arthur: 12\n",
            "Port Orange: 1\n",
            "Port Saint Lucie: 11\n",
            "Portage: 2\n",
            "Portland: 92\n",
            "Providence: 118\n",
            "Provo: 38\n",
            "Pueblo: 42\n",
            "Quincy: 84\n",
            "Raleigh: 77\n",
            "Rancho Cucamonga: 14\n",
            "Rapid City: 4\n",
            "Reading: 16\n",
            "Redding: 3\n",
            "Redlands: 61\n",
            "Redmond: 52\n",
            "Redondo Beach: 35\n",
            "Redwood City: 6\n",
            "Reno: 17\n",
            "Renton: 14\n",
            "Revere: 24\n",
            "Richardson: 12\n",
            "Richmond: 336\n",
            "Rio Rancho: 7\n",
            "Riverside: 40\n",
            "Rochester: 170\n",
            "Rochester Hills: 4\n",
            "Rock Hill: 3\n",
            "Rockford: 64\n",
            "Rockville: 11\n",
            "Rogers: 9\n",
            "Rome: 22\n",
            "Romeoville: 2\n",
            "Roseville: 96\n",
            "Roswell: 64\n",
            "Round Rock: 23\n",
            "Royal Oak: 4\n",
            "Sacramento: 36\n",
            "Saginaw: 24\n",
            "Saint Charles: 33\n",
            "Saint Cloud: 13\n",
            "Saint Louis: 26\n",
            "Saint Paul: 11\n",
            "Saint Peters: 4\n",
            "Saint Petersburg: 53\n",
            "Salem: 148\n",
            "Salinas: 39\n",
            "Salt Lake City: 42\n",
            "San Angelo: 13\n",
            "San Antonio: 247\n",
            "San Bernardino: 33\n",
            "San Clemente: 10\n",
            "San Diego: 670\n",
            "San Francisco: 1920\n",
            "San Gabriel: 13\n",
            "San Jose: 159\n",
            "San Luis Obispo: 2\n",
            "San Marcos: 12\n",
            "San Mateo: 6\n",
            "Sandy Springs: 47\n",
            "Sanford: 9\n",
            "Santa Ana: 55\n",
            "Santa Barbara: 30\n",
            "Santa Clara: 23\n",
            "Santa Fe: 14\n",
            "Santa Maria: 3\n",
            "Scottsdale: 55\n",
            "Seattle: 1578\n",
            "Sheboygan: 10\n",
            "Shelton: 5\n",
            "Sierra Vista: 9\n",
            "Sioux Falls: 35\n",
            "Skokie: 44\n",
            "Smyrna: 86\n",
            "South Bend: 25\n",
            "Southaven: 25\n",
            "Sparks: 19\n",
            "Spokane: 36\n",
            "Springdale: 2\n",
            "Springfield: 649\n",
            "Sterling Heights: 11\n",
            "Stockton: 34\n",
            "Suffolk: 32\n",
            "Summerville: 10\n",
            "Sunnyvale: 23\n",
            "Superior: 37\n",
            "Tallahassee: 89\n",
            "Tamarac: 15\n",
            "Tampa: 105\n",
            "Taylor: 7\n",
            "Temecula: 14\n",
            "Tempe: 41\n",
            "Texarkana: 11\n",
            "Texas City: 7\n",
            "The Colony: 14\n",
            "Thomasville: 12\n",
            "Thornton: 47\n",
            "Thousand Oaks: 20\n",
            "Tigard: 26\n",
            "Tinley Park: 7\n",
            "Toledo: 122\n",
            "Torrance: 16\n",
            "Trenton: 54\n",
            "Troy: 112\n",
            "Tucson: 145\n",
            "Tulsa: 107\n",
            "Tuscaloosa: 9\n",
            "Twin Falls: 7\n",
            "Tyler: 16\n",
            "Urbandale: 12\n",
            "Utica: 33\n",
            "Vacaville: 11\n",
            "Vallejo: 22\n",
            "Vancouver: 15\n",
            "Vineland: 24\n",
            "Virginia Beach: 62\n",
            "Visalia: 20\n",
            "Waco: 17\n",
            "Warner Robins: 10\n",
            "Warwick: 14\n",
            "Washington: 40\n",
            "Waterbury: 33\n",
            "Waterloo: 4\n",
            "Watertown: 35\n",
            "Waukesha: 5\n",
            "Wausau: 14\n",
            "Waynesboro: 32\n",
            "West Allis: 5\n",
            "West Jordan: 16\n",
            "West Palm Beach: 11\n",
            "Westfield: 16\n",
            "Westland: 46\n",
            "Westminster: 50\n",
            "Wheeling: 27\n",
            "Whittier: 4\n",
            "Wichita: 26\n",
            "Wilmington: 157\n",
            "Wilson: 20\n",
            "Woodbury: 11\n",
            "Woodland: 7\n",
            "Woodstock: 31\n",
            "Woonsocket: 15\n",
            "Yonkers: 57\n",
            "York: 19\n",
            "Yucaipa: 5\n",
            "Yuma: 22\n"
          ]
        }
      ]
    },
    {
      "cell_type": "markdown",
      "source": [
        "#### PREPROCESSING DATA\n",
        "\n",
        "\n",
        "* Import Data:\n",
        "* Pemberihan Data\n",
        "\n"
      ],
      "metadata": {
        "id": "QkUG9DzyKScW"
      }
    },
    {
      "cell_type": "code",
      "source": [],
      "metadata": {
        "id": "u6qAv85yKXc3"
      },
      "execution_count": null,
      "outputs": []
    },
    {
      "cell_type": "markdown",
      "source": [
        "##EDA\n",
        "\n",
        "\n",
        "*   Analisis Deskriptif:\n",
        "    - Berapa total penjualan untuk setiap kategori (Category)?\n",
        "    - Berapa total penjualan untuk setiap sub kategori?\n",
        "    - Berapa total penjualan untuk setiap state?\n",
        "*   Visualisasi\n",
        "    - Bar chart: Total penjualan per sub-kategori.\n",
        "    - Pie chart: Distribusi penjualan berdasarkan region.\n",
        "    - Scatter plot: Hubungan antara Sales vs. region.\n",
        "*   Analisis Profitabilitas\n",
        "    - Apakah ada korelasi antara state, category, sub-category dan sales?\n",
        "\n"
      ],
      "metadata": {
        "id": "sYf9JqUFMJj3"
      }
    },
    {
      "cell_type": "code",
      "source": [],
      "metadata": {
        "id": "JLosLmUbOz92"
      },
      "execution_count": null,
      "outputs": []
    },
    {
      "cell_type": "markdown",
      "source": [
        "## Pertanyaan Analitis\n",
        "- Region mana yang paling menghasilkan penjualan (sales) yang besar?\n",
        "- Apakah produk dengan sales terbesar?\n",
        "- Rekomendasikan 3 sub-kategori yang perlu diprioritaskan untuk meningkatkan profit!"
      ],
      "metadata": {
        "id": "9ZcDltjPOZon"
      }
    },
    {
      "cell_type": "code",
      "source": [],
      "metadata": {
        "id": "ClpaEkxNOwxv"
      },
      "execution_count": null,
      "outputs": []
    }
  ]
}