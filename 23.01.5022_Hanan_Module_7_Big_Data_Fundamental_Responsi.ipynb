{
  "nbformat": 4,
  "nbformat_minor": 0,
  "metadata": {
    "colab": {
      "provenance": [],
      "include_colab_link": true
    },
    "kernelspec": {
      "name": "python3",
      "display_name": "Python 3"
    },
    "language_info": {
      "name": "python"
    }
  },
  "cells": [
    {
      "cell_type": "markdown",
      "metadata": {
        "id": "view-in-github",
        "colab_type": "text"
      },
      "source": [
        "<a href=\"https://colab.research.google.com/github/yakaHan/Tugas/blob/main/23.01.5022_Hanan_Module_7_Big_Data_Fundamental_Responsi.ipynb\" target=\"_parent\"><img src=\"https://colab.research.google.com/assets/colab-badge.svg\" alt=\"Open In Colab\"/></a>"
      ]
    },
    {
      "cell_type": "markdown",
      "source": [
        "## TUGAS MODULE 7 BIGDATA FUNDAMENTAL RESPONSI\n",
        "\n",
        "\n",
        "### Isikan data diri\n",
        "*   Nama : Nayaka Hananadhif Adinata\n",
        "*   Nim : 23.01.5022"
      ],
      "metadata": {
        "id": "_mEFGp4BP4B2"
      }
    },
    {
      "cell_type": "markdown",
      "source": [
        "####BRIEF:\n",
        "Analisis Kinerja Penjualan Toko Retail Sederhana\n",
        "####Dataset: https://www.kaggle.com/datasets/bravehart101/sample-supermarket-dataset\n",
        "\n",
        "Tugas yang Harus Diselesaikan:\n",
        "* Preprocessing Data (Sederhana)\n",
        "* EDA (Exploratory Data Analysis)\n",
        "* Pertanyaan Analitis\n",
        "\n"
      ],
      "metadata": {
        "id": "Af-7E1QuJW2X"
      }
    },
    {
      "cell_type": "code",
      "source": [
        "from google.colab import drive\n",
        "drive.mount('/content/drive')"
      ],
      "metadata": {
        "colab": {
          "base_uri": "https://localhost:8080/"
        },
        "id": "3qlK6oVeSs6t",
        "outputId": "1ddb3eb8-5e4e-42c1-a668-b321c9ea0c19"
      },
      "execution_count": 6,
      "outputs": [
        {
          "output_type": "stream",
          "name": "stdout",
          "text": [
            "Mounted at /content/drive\n"
          ]
        }
      ]
    },
    {
      "cell_type": "code",
      "source": [
        "import pandas as pd"
      ],
      "metadata": {
        "id": "pHbyiYNGTQPi"
      },
      "execution_count": 4,
      "outputs": []
    },
    {
      "cell_type": "markdown",
      "source": [
        "#### PREPROCESSING DATA\n",
        "\n",
        "\n",
        "* Import Data:\n",
        "* Pemberihan Data\n",
        "\n"
      ],
      "metadata": {
        "id": "E0DrjdsnKZtt"
      }
    },
    {
      "cell_type": "code",
      "source": [
        "df = pd.read_csv('/content/drive/MyDrive/SampleSuperstore.csv')"
      ],
      "metadata": {
        "id": "xaWazJDKTZWg"
      },
      "execution_count": 7,
      "outputs": []
    },
    {
      "cell_type": "code",
      "source": [
        "print(df.info())"
      ],
      "metadata": {
        "colab": {
          "base_uri": "https://localhost:8080/"
        },
        "id": "K-98jbiATidS",
        "outputId": "a06ef74b-1d4f-42ca-c85c-73760c4b3583"
      },
      "execution_count": 8,
      "outputs": [
        {
          "output_type": "stream",
          "name": "stdout",
          "text": [
            "<class 'pandas.core.frame.DataFrame'>\n",
            "RangeIndex: 9994 entries, 0 to 9993\n",
            "Data columns (total 13 columns):\n",
            " #   Column        Non-Null Count  Dtype  \n",
            "---  ------        --------------  -----  \n",
            " 0   Ship Mode     9994 non-null   object \n",
            " 1   Segment       9994 non-null   object \n",
            " 2   Country       9994 non-null   object \n",
            " 3   City          9994 non-null   object \n",
            " 4   State         9994 non-null   object \n",
            " 5   Postal Code   9994 non-null   int64  \n",
            " 6   Region        9994 non-null   object \n",
            " 7   Category      9994 non-null   object \n",
            " 8   Sub-Category  9994 non-null   object \n",
            " 9   Sales         9994 non-null   float64\n",
            " 10  Quantity      9994 non-null   int64  \n",
            " 11  Discount      9994 non-null   float64\n",
            " 12  Profit        9994 non-null   float64\n",
            "dtypes: float64(3), int64(2), object(8)\n",
            "memory usage: 1015.1+ KB\n",
            "None\n"
          ]
        }
      ]
    },
    {
      "cell_type": "markdown",
      "source": [
        "##EDA\n",
        "\n",
        "\n",
        "*   Analisis Deskriptif:\n",
        "    - Berapa total penjualan untuk setiap kategori (Category)?\n",
        "    - Berapa total penjualan untuk setiap sub kategori?\n",
        "    - Berapa total penjualan untuk setiap state?\n",
        "*   Visualisasi\n",
        "    - Bar chart: Total penjualan per sub-kategori.\n",
        "    - Pie chart: Distribusi penjualan berdasarkan region.\n",
        "    - Scatter plot: Hubungan antara Sales vs. region.\n",
        "*   Analisis Profitabilitas\n",
        "    - Apakah ada korelasi antara state, category, sub-category dan sales?\n",
        "\n"
      ],
      "metadata": {
        "id": "sYf9JqUFMJj3"
      }
    },
    {
      "cell_type": "code",
      "source": [
        "#Analisis Deskriptif\n",
        "#Total Penjualan per Kategori:\n",
        "df.groupby('Category')['Sales'].sum()"
      ],
      "metadata": {
        "id": "JLosLmUbOz92",
        "colab": {
          "base_uri": "https://localhost:8080/",
          "height": 210
        },
        "outputId": "3e1ed430-4f79-4b04-a46e-5f9397b0a75b"
      },
      "execution_count": 10,
      "outputs": [
        {
          "output_type": "execute_result",
          "data": {
            "text/plain": [
              "Category\n",
              "Furniture          741999.7953\n",
              "Office Supplies    719047.0320\n",
              "Technology         836154.0330\n",
              "Name: Sales, dtype: float64"
            ],
            "text/html": [
              "<div>\n",
              "<style scoped>\n",
              "    .dataframe tbody tr th:only-of-type {\n",
              "        vertical-align: middle;\n",
              "    }\n",
              "\n",
              "    .dataframe tbody tr th {\n",
              "        vertical-align: top;\n",
              "    }\n",
              "\n",
              "    .dataframe thead th {\n",
              "        text-align: right;\n",
              "    }\n",
              "</style>\n",
              "<table border=\"1\" class=\"dataframe\">\n",
              "  <thead>\n",
              "    <tr style=\"text-align: right;\">\n",
              "      <th></th>\n",
              "      <th>Sales</th>\n",
              "    </tr>\n",
              "    <tr>\n",
              "      <th>Category</th>\n",
              "      <th></th>\n",
              "    </tr>\n",
              "  </thead>\n",
              "  <tbody>\n",
              "    <tr>\n",
              "      <th>Furniture</th>\n",
              "      <td>741999.7953</td>\n",
              "    </tr>\n",
              "    <tr>\n",
              "      <th>Office Supplies</th>\n",
              "      <td>719047.0320</td>\n",
              "    </tr>\n",
              "    <tr>\n",
              "      <th>Technology</th>\n",
              "      <td>836154.0330</td>\n",
              "    </tr>\n",
              "  </tbody>\n",
              "</table>\n",
              "</div><br><label><b>dtype:</b> float64</label>"
            ]
          },
          "metadata": {},
          "execution_count": 10
        }
      ]
    },
    {
      "cell_type": "code",
      "source": [
        "#Total Penjualan per Sub-Kategori:\n",
        "df.groupby('Sub-Category')['Sales'].sum().sort_values(ascending=False)"
      ],
      "metadata": {
        "id": "IFpgeYd_LVcP",
        "outputId": "c76e574d-0d70-4643-f508-7949fd2e4d76",
        "colab": {
          "base_uri": "https://localhost:8080/",
          "height": 649
        }
      },
      "execution_count": 11,
      "outputs": [
        {
          "output_type": "execute_result",
          "data": {
            "text/plain": [
              "Sub-Category\n",
              "Phones         330007.0540\n",
              "Chairs         328449.1030\n",
              "Storage        223843.6080\n",
              "Tables         206965.5320\n",
              "Binders        203412.7330\n",
              "Machines       189238.6310\n",
              "Accessories    167380.3180\n",
              "Copiers        149528.0300\n",
              "Bookcases      114879.9963\n",
              "Appliances     107532.1610\n",
              "Furnishings     91705.1640\n",
              "Paper           78479.2060\n",
              "Supplies        46673.5380\n",
              "Art             27118.7920\n",
              "Envelopes       16476.4020\n",
              "Labels          12486.3120\n",
              "Fasteners        3024.2800\n",
              "Name: Sales, dtype: float64"
            ],
            "text/html": [
              "<div>\n",
              "<style scoped>\n",
              "    .dataframe tbody tr th:only-of-type {\n",
              "        vertical-align: middle;\n",
              "    }\n",
              "\n",
              "    .dataframe tbody tr th {\n",
              "        vertical-align: top;\n",
              "    }\n",
              "\n",
              "    .dataframe thead th {\n",
              "        text-align: right;\n",
              "    }\n",
              "</style>\n",
              "<table border=\"1\" class=\"dataframe\">\n",
              "  <thead>\n",
              "    <tr style=\"text-align: right;\">\n",
              "      <th></th>\n",
              "      <th>Sales</th>\n",
              "    </tr>\n",
              "    <tr>\n",
              "      <th>Sub-Category</th>\n",
              "      <th></th>\n",
              "    </tr>\n",
              "  </thead>\n",
              "  <tbody>\n",
              "    <tr>\n",
              "      <th>Phones</th>\n",
              "      <td>330007.0540</td>\n",
              "    </tr>\n",
              "    <tr>\n",
              "      <th>Chairs</th>\n",
              "      <td>328449.1030</td>\n",
              "    </tr>\n",
              "    <tr>\n",
              "      <th>Storage</th>\n",
              "      <td>223843.6080</td>\n",
              "    </tr>\n",
              "    <tr>\n",
              "      <th>Tables</th>\n",
              "      <td>206965.5320</td>\n",
              "    </tr>\n",
              "    <tr>\n",
              "      <th>Binders</th>\n",
              "      <td>203412.7330</td>\n",
              "    </tr>\n",
              "    <tr>\n",
              "      <th>Machines</th>\n",
              "      <td>189238.6310</td>\n",
              "    </tr>\n",
              "    <tr>\n",
              "      <th>Accessories</th>\n",
              "      <td>167380.3180</td>\n",
              "    </tr>\n",
              "    <tr>\n",
              "      <th>Copiers</th>\n",
              "      <td>149528.0300</td>\n",
              "    </tr>\n",
              "    <tr>\n",
              "      <th>Bookcases</th>\n",
              "      <td>114879.9963</td>\n",
              "    </tr>\n",
              "    <tr>\n",
              "      <th>Appliances</th>\n",
              "      <td>107532.1610</td>\n",
              "    </tr>\n",
              "    <tr>\n",
              "      <th>Furnishings</th>\n",
              "      <td>91705.1640</td>\n",
              "    </tr>\n",
              "    <tr>\n",
              "      <th>Paper</th>\n",
              "      <td>78479.2060</td>\n",
              "    </tr>\n",
              "    <tr>\n",
              "      <th>Supplies</th>\n",
              "      <td>46673.5380</td>\n",
              "    </tr>\n",
              "    <tr>\n",
              "      <th>Art</th>\n",
              "      <td>27118.7920</td>\n",
              "    </tr>\n",
              "    <tr>\n",
              "      <th>Envelopes</th>\n",
              "      <td>16476.4020</td>\n",
              "    </tr>\n",
              "    <tr>\n",
              "      <th>Labels</th>\n",
              "      <td>12486.3120</td>\n",
              "    </tr>\n",
              "    <tr>\n",
              "      <th>Fasteners</th>\n",
              "      <td>3024.2800</td>\n",
              "    </tr>\n",
              "  </tbody>\n",
              "</table>\n",
              "</div><br><label><b>dtype:</b> float64</label>"
            ]
          },
          "metadata": {},
          "execution_count": 11
        }
      ]
    },
    {
      "cell_type": "code",
      "source": [
        "#Total Penjualan per State:\n",
        "df.groupby('State')['Sales'].sum().sort_values(ascending=False)"
      ],
      "metadata": {
        "id": "kuLzBmjSLX0_",
        "outputId": "b421ca20-e090-41bf-c488-11e68d0dd677",
        "colab": {
          "base_uri": "https://localhost:8080/",
          "height": 1000
        }
      },
      "execution_count": 12,
      "outputs": [
        {
          "output_type": "execute_result",
          "data": {
            "text/plain": [
              "State\n",
              "California              457687.6315\n",
              "New York                310876.2710\n",
              "Texas                   170188.0458\n",
              "Washington              138641.2700\n",
              "Pennsylvania            116511.9140\n",
              "Florida                  89473.7080\n",
              "Illinois                 80166.1010\n",
              "Ohio                     78258.1360\n",
              "Michigan                 76269.6140\n",
              "Virginia                 70636.7200\n",
              "North Carolina           55603.1640\n",
              "Indiana                  53555.3600\n",
              "Georgia                  49095.8400\n",
              "Kentucky                 36591.7500\n",
              "New Jersey               35764.3120\n",
              "Arizona                  35282.0010\n",
              "Wisconsin                32114.6100\n",
              "Colorado                 32108.1180\n",
              "Tennessee                30661.8730\n",
              "Minnesota                29863.1500\n",
              "Massachusetts            28634.4340\n",
              "Delaware                 27451.0690\n",
              "Maryland                 23705.5230\n",
              "Rhode Island             22627.9560\n",
              "Missouri                 22205.1500\n",
              "Oklahoma                 19683.3900\n",
              "Alabama                  19510.6400\n",
              "Oregon                   17431.1500\n",
              "Nevada                   16729.1020\n",
              "Connecticut              13384.3570\n",
              "Arkansas                 11678.1300\n",
              "Utah                     11220.0560\n",
              "Mississippi              10771.3400\n",
              "Louisiana                 9217.0300\n",
              "Vermont                   8929.3700\n",
              "South Carolina            8481.7100\n",
              "Nebraska                  7464.9300\n",
              "New Hampshire             7292.5240\n",
              "Montana                   5589.3520\n",
              "New Mexico                4783.5220\n",
              "Iowa                      4579.7600\n",
              "Idaho                     4382.4860\n",
              "Kansas                    2914.3100\n",
              "District of Columbia      2865.0200\n",
              "Wyoming                   1603.1360\n",
              "South Dakota              1315.5600\n",
              "Maine                     1270.5300\n",
              "West Virginia             1209.8240\n",
              "North Dakota               919.9100\n",
              "Name: Sales, dtype: float64"
            ],
            "text/html": [
              "<div>\n",
              "<style scoped>\n",
              "    .dataframe tbody tr th:only-of-type {\n",
              "        vertical-align: middle;\n",
              "    }\n",
              "\n",
              "    .dataframe tbody tr th {\n",
              "        vertical-align: top;\n",
              "    }\n",
              "\n",
              "    .dataframe thead th {\n",
              "        text-align: right;\n",
              "    }\n",
              "</style>\n",
              "<table border=\"1\" class=\"dataframe\">\n",
              "  <thead>\n",
              "    <tr style=\"text-align: right;\">\n",
              "      <th></th>\n",
              "      <th>Sales</th>\n",
              "    </tr>\n",
              "    <tr>\n",
              "      <th>State</th>\n",
              "      <th></th>\n",
              "    </tr>\n",
              "  </thead>\n",
              "  <tbody>\n",
              "    <tr>\n",
              "      <th>California</th>\n",
              "      <td>457687.6315</td>\n",
              "    </tr>\n",
              "    <tr>\n",
              "      <th>New York</th>\n",
              "      <td>310876.2710</td>\n",
              "    </tr>\n",
              "    <tr>\n",
              "      <th>Texas</th>\n",
              "      <td>170188.0458</td>\n",
              "    </tr>\n",
              "    <tr>\n",
              "      <th>Washington</th>\n",
              "      <td>138641.2700</td>\n",
              "    </tr>\n",
              "    <tr>\n",
              "      <th>Pennsylvania</th>\n",
              "      <td>116511.9140</td>\n",
              "    </tr>\n",
              "    <tr>\n",
              "      <th>Florida</th>\n",
              "      <td>89473.7080</td>\n",
              "    </tr>\n",
              "    <tr>\n",
              "      <th>Illinois</th>\n",
              "      <td>80166.1010</td>\n",
              "    </tr>\n",
              "    <tr>\n",
              "      <th>Ohio</th>\n",
              "      <td>78258.1360</td>\n",
              "    </tr>\n",
              "    <tr>\n",
              "      <th>Michigan</th>\n",
              "      <td>76269.6140</td>\n",
              "    </tr>\n",
              "    <tr>\n",
              "      <th>Virginia</th>\n",
              "      <td>70636.7200</td>\n",
              "    </tr>\n",
              "    <tr>\n",
              "      <th>North Carolina</th>\n",
              "      <td>55603.1640</td>\n",
              "    </tr>\n",
              "    <tr>\n",
              "      <th>Indiana</th>\n",
              "      <td>53555.3600</td>\n",
              "    </tr>\n",
              "    <tr>\n",
              "      <th>Georgia</th>\n",
              "      <td>49095.8400</td>\n",
              "    </tr>\n",
              "    <tr>\n",
              "      <th>Kentucky</th>\n",
              "      <td>36591.7500</td>\n",
              "    </tr>\n",
              "    <tr>\n",
              "      <th>New Jersey</th>\n",
              "      <td>35764.3120</td>\n",
              "    </tr>\n",
              "    <tr>\n",
              "      <th>Arizona</th>\n",
              "      <td>35282.0010</td>\n",
              "    </tr>\n",
              "    <tr>\n",
              "      <th>Wisconsin</th>\n",
              "      <td>32114.6100</td>\n",
              "    </tr>\n",
              "    <tr>\n",
              "      <th>Colorado</th>\n",
              "      <td>32108.1180</td>\n",
              "    </tr>\n",
              "    <tr>\n",
              "      <th>Tennessee</th>\n",
              "      <td>30661.8730</td>\n",
              "    </tr>\n",
              "    <tr>\n",
              "      <th>Minnesota</th>\n",
              "      <td>29863.1500</td>\n",
              "    </tr>\n",
              "    <tr>\n",
              "      <th>Massachusetts</th>\n",
              "      <td>28634.4340</td>\n",
              "    </tr>\n",
              "    <tr>\n",
              "      <th>Delaware</th>\n",
              "      <td>27451.0690</td>\n",
              "    </tr>\n",
              "    <tr>\n",
              "      <th>Maryland</th>\n",
              "      <td>23705.5230</td>\n",
              "    </tr>\n",
              "    <tr>\n",
              "      <th>Rhode Island</th>\n",
              "      <td>22627.9560</td>\n",
              "    </tr>\n",
              "    <tr>\n",
              "      <th>Missouri</th>\n",
              "      <td>22205.1500</td>\n",
              "    </tr>\n",
              "    <tr>\n",
              "      <th>Oklahoma</th>\n",
              "      <td>19683.3900</td>\n",
              "    </tr>\n",
              "    <tr>\n",
              "      <th>Alabama</th>\n",
              "      <td>19510.6400</td>\n",
              "    </tr>\n",
              "    <tr>\n",
              "      <th>Oregon</th>\n",
              "      <td>17431.1500</td>\n",
              "    </tr>\n",
              "    <tr>\n",
              "      <th>Nevada</th>\n",
              "      <td>16729.1020</td>\n",
              "    </tr>\n",
              "    <tr>\n",
              "      <th>Connecticut</th>\n",
              "      <td>13384.3570</td>\n",
              "    </tr>\n",
              "    <tr>\n",
              "      <th>Arkansas</th>\n",
              "      <td>11678.1300</td>\n",
              "    </tr>\n",
              "    <tr>\n",
              "      <th>Utah</th>\n",
              "      <td>11220.0560</td>\n",
              "    </tr>\n",
              "    <tr>\n",
              "      <th>Mississippi</th>\n",
              "      <td>10771.3400</td>\n",
              "    </tr>\n",
              "    <tr>\n",
              "      <th>Louisiana</th>\n",
              "      <td>9217.0300</td>\n",
              "    </tr>\n",
              "    <tr>\n",
              "      <th>Vermont</th>\n",
              "      <td>8929.3700</td>\n",
              "    </tr>\n",
              "    <tr>\n",
              "      <th>South Carolina</th>\n",
              "      <td>8481.7100</td>\n",
              "    </tr>\n",
              "    <tr>\n",
              "      <th>Nebraska</th>\n",
              "      <td>7464.9300</td>\n",
              "    </tr>\n",
              "    <tr>\n",
              "      <th>New Hampshire</th>\n",
              "      <td>7292.5240</td>\n",
              "    </tr>\n",
              "    <tr>\n",
              "      <th>Montana</th>\n",
              "      <td>5589.3520</td>\n",
              "    </tr>\n",
              "    <tr>\n",
              "      <th>New Mexico</th>\n",
              "      <td>4783.5220</td>\n",
              "    </tr>\n",
              "    <tr>\n",
              "      <th>Iowa</th>\n",
              "      <td>4579.7600</td>\n",
              "    </tr>\n",
              "    <tr>\n",
              "      <th>Idaho</th>\n",
              "      <td>4382.4860</td>\n",
              "    </tr>\n",
              "    <tr>\n",
              "      <th>Kansas</th>\n",
              "      <td>2914.3100</td>\n",
              "    </tr>\n",
              "    <tr>\n",
              "      <th>District of Columbia</th>\n",
              "      <td>2865.0200</td>\n",
              "    </tr>\n",
              "    <tr>\n",
              "      <th>Wyoming</th>\n",
              "      <td>1603.1360</td>\n",
              "    </tr>\n",
              "    <tr>\n",
              "      <th>South Dakota</th>\n",
              "      <td>1315.5600</td>\n",
              "    </tr>\n",
              "    <tr>\n",
              "      <th>Maine</th>\n",
              "      <td>1270.5300</td>\n",
              "    </tr>\n",
              "    <tr>\n",
              "      <th>West Virginia</th>\n",
              "      <td>1209.8240</td>\n",
              "    </tr>\n",
              "    <tr>\n",
              "      <th>North Dakota</th>\n",
              "      <td>919.9100</td>\n",
              "    </tr>\n",
              "  </tbody>\n",
              "</table>\n",
              "</div><br><label><b>dtype:</b> float64</label>"
            ]
          },
          "metadata": {},
          "execution_count": 12
        }
      ]
    },
    {
      "cell_type": "code",
      "source": [
        "#VIsualisasi\n",
        "#Bar Chart: Total Penjualan per Sub-Kategori\n",
        "import matplotlib.pyplot as plt\n",
        "import seaborn as sns\n",
        "\n",
        "plt.figure(figsize=(12,6))\n",
        "sales_by_subcat = df.groupby('Sub-Category')['Sales'].sum().sort_values(ascending=False)\n",
        "sns.barplot(x=sales_by_subcat.index, y=sales_by_subcat.values)\n",
        "plt.xticks(rotation=45)\n",
        "plt.title('Total Penjualan per Sub-Kategori')\n",
        "plt.show()"
      ],
      "metadata": {
        "id": "i-BpcDQ2LZzd",
        "outputId": "2835ca61-f0b1-45d6-fcc6-dbf271ee0644",
        "colab": {
          "base_uri": "https://localhost:8080/",
          "height": 617
        }
      },
      "execution_count": 13,
      "outputs": [
        {
          "output_type": "display_data",
          "data": {
            "text/plain": [
              "<Figure size 1200x600 with 1 Axes>"
            ],
            "image/png": "[encoded data removed]"
          },
          "metadata": {}
        }
      ]
    },
    {
      "cell_type": "code",
      "source": [
        "#Pie Chart: Distribusi Penjualan Berdasarkan Region\n",
        "plt.figure(figsize=(8,8))\n",
        "sales_by_region = df.groupby('Region')['Sales'].sum()\n",
        "plt.pie(sales_by_region, labels=sales_by_region.index, autopct='%1.1f%%')\n",
        "plt.title('Distribusi Penjualan berdasarkan Region')\n",
        "plt.show()"
      ],
      "metadata": {
        "id": "zMpYvF54Lksc",
        "outputId": "6efef4bf-0b9e-4956-928d-25f45247885b",
        "colab": {
          "base_uri": "https://localhost:8080/",
          "height": 675
        }
      },
      "execution_count": 14,
      "outputs": [
        {
          "output_type": "display_data",
          "data": {
            "text/plain": [
              "<Figure size 800x800 with 1 Axes>"
            ],
            "image/png": "[encoded data removed]"
          },
          "metadata": {}
        }
      ]
    },
    {
      "cell_type": "code",
      "source": [
        "#Scatter Plot: Hubungan antara Sales vs. Region\n",
        "plt.figure(figsize=(10,6))\n",
        "sns.scatterplot(x='Region', y='Sales', data=df)\n",
        "plt.title('Hubungan antara Sales dan Region')\n",
        "plt.show()"
      ],
      "metadata": {
        "id": "cflHTHG_LqDt",
        "outputId": "6d8bdf34-ead5-4239-9103-b4f569e12912",
        "colab": {
          "base_uri": "https://localhost:8080/",
          "height": 564
        }
      },
      "execution_count": 15,
      "outputs": [
        {
          "output_type": "display_data",
          "data": {
            "text/plain": [
              "<Figure size 1000x600 with 1 Axes>"
            ],
            "image/png": "[encoded data removed]"
          },
          "metadata": {}
        }
      ]
    },
    {
      "cell_type": "code",
      "source": [
        "#Analisis Profitabilitas\n",
        "#Untuk melihat korelasi antara state, category, sub-category dan sales:\n",
        "# Analisis ANOVA untuk melihat pengaruh kategori terhadap sales\n",
        "import statsmodels.api as sm\n",
        "from statsmodels.formula.api import ols\n",
        "\n",
        "# Use 'Q(\"Sub-Category\")' instead of 'Sub-Category' to interpret it as a single variable\n",
        "model = ols('Sales ~ C(State) + C(Category) + C(Q(\"Sub-Category\"))', data=df).fit()\n",
        "anova_table = sm.stats.anova_lm(model, typ=2)\n",
        "print(anova_table)"
      ],
      "metadata": {
        "id": "ziH6L-GSL5uH",
        "outputId": "7ed12482-a1d7-439c-92dc-557c5e4075ce",
        "colab": {
          "base_uri": "https://localhost:8080/"
        }
      },
      "execution_count": 18,
      "outputs": [
        {
          "output_type": "stream",
          "name": "stdout",
          "text": [
            "                            sum_sq      df           F        PR(>F)\n",
            "C(State)              3.421862e+07    48.0    2.304758  8.338640e-07\n",
            "C(Category)           3.994531e+07     2.0   64.571350  1.373489e-28\n",
            "C(Q(\"Sub-Category\"))  6.622678e+08    16.0  133.818982  0.000000e+00\n",
            "Residual              3.071153e+09  9929.0         NaN           NaN\n"
          ]
        }
      ]
    },
    {
      "cell_type": "markdown",
      "source": [
        "## Pertanyaan Analitis\n",
        "- Region mana yang paling menghasilkan penjualan (sales) yang besar?\n",
        "- Apakah produk dengan sales terbesar?\n",
        "- Rekomendasikan 3 sub-kategori yang perlu diprioritaskan untuk meningkatkan profit!"
      ],
      "metadata": {
        "id": "9ZcDltjPOZon"
      }
    },
    {
      "cell_type": "markdown",
      "source": [
        "Region dengan Penjualan Terbesar\n",
        "Berdasarkan analisis deskriptif dan pie chart, region dengan penjualan terbesar kemungkinan adalah West (Barat) yang biasanya memiliki kontribusi penjualan terbesar.\n",
        "\n",
        "Produk dengan Sales Terbesar\n",
        "Dari bar chart sub-kategori, produk dengan penjualan terbesar kemungkinan adalah:\n",
        "\n",
        "Phones\n",
        "\n",
        "Chairs\n",
        "\n",
        "Storage\n",
        "\n",
        "3 Sub-Kategori untuk Diprioritaskan\n",
        "Untuk merekomendasikan sub-kategori yang perlu diprioritaskan, kita perlu melihat profitabilitas, bukan hanya penjualan. Rekomendasi akan berdasarkan pada:\n",
        "\n",
        "Sub-kategori dengan profit margin tertinggi (Profit/Sales)\n",
        "\n",
        "Sub-kategori dengan volume penjualan sedang tetapi margin tinggi (potensi pengembangan)\n",
        "\n",
        "Sub-kategori dengan penjualan tinggi tetapi margin rendah (perlu optimasi)\n",
        "\n",
        "Biasanya rekomendasi akan berupa:\n",
        "\n",
        "Copiers - Biasanya memiliki margin tinggi\n",
        "\n",
        "Accessories - Volume penjualan baik dengan margin cukup\n",
        "\n",
        "Phones - Volume penjualan tinggi tetapi mungkin margin perlu ditingkatkan"
      ],
      "metadata": {
        "id": "ExAB9BozMa6S"
      }
    },
    {
      "cell_type": "code",
      "source": [
        "#Untuk analisis yang lebih akurat, diperlukan perhitungan profit margin per sub-kategori:\n",
        "df['Profit Margin'] = df['Profit'] / df['Sales']\n",
        "profit_by_subcat = df.groupby('Sub-Category')[['Sales', 'Profit', 'Profit Margin']].mean().sort_values(by='Profit Margin', ascending=False)\n",
        "print(profit_by_subcat)"
      ],
      "metadata": {
        "id": "abB1VMQIMhSh",
        "outputId": "7588ca5e-0e22-4ca3-8573-25c4e9c9491f",
        "colab": {
          "base_uri": "https://localhost:8080/"
        }
      },
      "execution_count": 19,
      "outputs": [
        {
          "output_type": "stream",
          "name": "stdout",
          "text": [
            "                    Sales      Profit  Profit Margin\n",
            "Sub-Category                                        \n",
            "Labels          34.303055   15.236962       0.429663\n",
            "Paper           57.284092   24.856620       0.425600\n",
            "Envelopes       64.867724   27.418019       0.423140\n",
            "Copiers       2198.941618  817.909190       0.317194\n",
            "Fasteners       13.936774    4.375660       0.299171\n",
            "Art             34.068834    8.200737       0.251646\n",
            "Accessories    215.974604   54.111788       0.218210\n",
            "Furnishings     95.825668   13.645918       0.137066\n",
            "Phones         371.211534   50.073938       0.119222\n",
            "Supplies       245.650200   -6.258418       0.112039\n",
            "Storage        264.590553   25.152277       0.089113\n",
            "Chairs         532.332420   43.095894       0.043900\n",
            "Machines      1645.553313   29.432669      -0.072026\n",
            "Bookcases      503.859633  -15.230509      -0.126640\n",
            "Tables         648.794771  -55.565771      -0.147727\n",
            "Appliances     230.755710   38.922758      -0.156869\n",
            "Binders        133.560560   19.843574      -0.199595\n"
          ]
        }
      ]
    }
  ]
}