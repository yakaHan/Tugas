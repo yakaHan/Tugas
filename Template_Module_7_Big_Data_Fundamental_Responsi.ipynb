{
  "nbformat": 4,
  "nbformat_minor": 0,
  "metadata": {
    "colab": {
      "provenance": [],
      "include_colab_link": true
    },
    "kernelspec": {
      "name": "python3",
      "display_name": "Python 3"
    },
    "language_info": {
      "name": "python"
    }
  },
  "cells": [
    {
      "cell_type": "markdown",
      "metadata": {
        "id": "view-in-github",
        "colab_type": "text"
      },
      "source": [
        "<a href=\"https://colab.research.google.com/github/yakaHan/Tugas/blob/main/Template_Module_7_Big_Data_Fundamental_Responsi.ipynb\" target=\"_parent\"><img src=\"https://colab.research.google.com/assets/colab-badge.svg\" alt=\"Open In Colab\"/></a>"
      ]
    },
    {
      "cell_type": "markdown",
      "source": [
        "## TUGAS MODULE 7 BIGDATA FUNDAMENTAL RESPONSI\n",
        "\n",
        "\n",
        "### Isikan data diri\n",
        "*   Nama : Nayaka Hananadhif Adinata\n",
        "*   Nim : 23.01.5022"
      ],
      "metadata": {
        "id": "_mEFGp4BP4B2"
      }
    },
    {
      "cell_type": "markdown",
      "source": [
        "####BRIEF:\n",
        "Analisis Kinerja Penjualan Toko Retail Sederhana\n",
        "####Dataset: https://www.kaggle.com/datasets/bravehart101/sample-supermarket-dataset\n",
        "\n",
        "Tugas yang Harus Diselesaikan:\n",
        "* Preprocessing Data (Sederhana)\n",
        "* EDA (Exploratory Data Analysis)\n",
        "* Pertanyaan Analitis\n",
        "\n"
      ],
      "metadata": {
        "id": "Af-7E1QuJW2X"
      }
    },
    {
      "cell_type": "markdown",
      "source": [
        "#### PREPROCESSING DATA\n",
        "\n",
        "\n",
        "* Import Data:\n",
        "* Pemberihan Data\n",
        "\n"
      ],
      "metadata": {
        "id": "QkUG9DzyKScW"
      }
    },
    {
      "cell_type": "code",
      "source": [],
      "metadata": {
        "id": "u6qAv85yKXc3"
      },
      "execution_count": null,
      "outputs": []
    },
    {
      "cell_type": "markdown",
      "source": [
        "##EDA\n",
        "\n",
        "\n",
        "*   Analisis Deskriptif:\n",
        "    - Berapa total penjualan untuk setiap kategori (Category)?\n",
        "    - Berapa total penjualan untuk setiap sub kategori?\n",
        "    - Berapa total penjualan untuk setiap state?\n",
        "*   Visualisasi\n",
        "    - Bar chart: Total penjualan per sub-kategori.\n",
        "    - Pie chart: Distribusi penjualan berdasarkan region.\n",
        "    - Scatter plot: Hubungan antara Sales vs. region.\n",
        "*   Analisis Profitabilitas\n",
        "    - Apakah ada korelasi antara state, category, sub-category dan sales?\n",
        "\n"
      ],
      "metadata": {
        "id": "sYf9JqUFMJj3"
      }
    },
    {
      "cell_type": "code",
      "source": [],
      "metadata": {
        "id": "JLosLmUbOz92"
      },
      "execution_count": null,
      "outputs": []
    },
    {
      "cell_type": "markdown",
      "source": [
        "## Pertanyaan Analitis\n",
        "- Region mana yang paling menghasilkan penjualan (sales) yang besar?\n",
        "- Apakah produk dengan sales terbesar?\n",
        "- Rekomendasikan 3 sub-kategori yang perlu diprioritaskan untuk meningkatkan profit!"
      ],
      "metadata": {
        "id": "9ZcDltjPOZon"
      }
    },
    {
      "cell_type": "code",
      "source": [],
      "metadata": {
        "id": "ClpaEkxNOwxv"
      },
      "execution_count": null,
      "outputs": []
    }
  ]
}