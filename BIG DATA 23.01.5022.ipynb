{
  "nbformat": 4,
  "nbformat_minor": 0,
  "metadata": {
    "colab": {
      "provenance": []
    },
    "kernelspec": {
      "name": "python3",
      "display_name": "Python 3"
    },
    "language_info": {
      "name": "python"
    }
  },
  "cells": [
    {
      "cell_type": "code",
      "execution_count": 1,
      "metadata": {
        "colab": {
          "base_uri": "https://localhost:8080/"
        },
        "id": "5aD8IaXH0TQv",
        "outputId": "816ffecb-3bc4-4c3b-bee0-4b4d376348bc"
      },
      "outputs": [
        {
          "output_type": "stream",
          "name": "stdout",
          "text": [
            "Requirement already satisfied: requests in /usr/local/lib/python3.11/dist-packages (2.32.3)\n",
            "Requirement already satisfied: charset-normalizer<4,>=2 in /usr/local/lib/python3.11/dist-packages (from requests) (3.4.1)\n",
            "Requirement already satisfied: idna<4,>=2.5 in /usr/local/lib/python3.11/dist-packages (from requests) (3.10)\n",
            "Requirement already satisfied: urllib3<3,>=1.21.1 in /usr/local/lib/python3.11/dist-packages (from requests) (2.3.0)\n",
            "Requirement already satisfied: certifi>=2017.4.17 in /usr/local/lib/python3.11/dist-packages (from requests) (2025.1.31)\n"
          ]
        }
      ],
      "source": [
        "!pip install requests"
      ]
    },
    {
      "cell_type": "code",
      "source": [
        "import requests\n",
        "\n",
        "API_KEY = \"API_KEY_HERE\"\n",
        "url = f\"https://api.openweathermap.org/data/2.5/weather?lat=-7.797068&lon=110.370529&appid={API_KEY}&units=metric&lang=id\"\n",
        "\n",
        "response = requests.get(url)\n",
        "data = response.json()\n",
        "\n",
        "# Mengambil data yang dibutuhkan\n",
        "temperatur = data['main']['temp']\n",
        "kelembapan = data['main']['humidity']\n",
        "deskripsi = data['weather'][0]['description']\n",
        "\n",
        "# Menampilkan hasil dalam Bahasa Indonesia\n",
        "print(f\"Temperatur: {temperatur}°C\")\n",
        "print(f\"Kelembapan: {kelembapan}%\")\n",
        "print(f\"Deskripsi Cuaca: {deskripsi}\")\n"
      ],
      "metadata": {
        "colab": {
          "base_uri": "https://localhost:8080/"
        },
        "id": "Qih2m_E-5Liq",
        "outputId": "cab56a16-eead-4c91-8c6c-48bb1eba5c4a"
      },
      "execution_count": 3,
      "outputs": [
        {
          "output_type": "stream",
          "name": "stdout",
          "text": [
            "Temperatur: 26.69°C\n",
            "Kelembapan: 81%\n",
            "Deskripsi Cuaca: awan pecah\n"
          ]
        }
      ]
    },
    {
      "cell_type": "code",
      "source": [
        "import requests\n",
        "\n",
        "# Ganti dengan Bearer Token milikmu\n",
        "bearer_token = 'BEARER_TOKEN_HERE'\n",
        "\n",
        "headers = {\n",
        "    'Authorization': f'Bearer {bearer_token}',\n",
        "}\n",
        "\n",
        "params = {\n",
        "    'query': '#ArtificialIntelligence',\n",
        "    'max_results': 10  # Sesuai batas minimal API\n",
        "}\n",
        "\n",
        "url = 'https://api.twitter.com/2/tweets/search/recent?query=%23ArtificialIntelligence&max_results=10'\n",
        "\n",
        "response = requests.get(url, headers=headers, params=params)\n",
        "\n",
        "# Cek jika berhasil\n",
        "if response.status_code == 200:\n",
        "    data = response.json()\n",
        "    tweets = data.get('data', [])\n",
        "\n",
        "    print(\"5 Tweet Pertama dengan #ArtificialIntelligence:\\n\")\n",
        "    for i, tweet in enumerate(tweets[:5]):  # Ambil 5 pertama\n",
        "        print(f\"{i+1}. {tweet['text']}\\n\")\n",
        "else:\n",
        "    print(\"Gagal mengambil tweet:\", response.status_code, response.text)\n"
      ],
      "metadata": {
        "colab": {
          "base_uri": "https://localhost:8080/"
        },
        "id": "9rPPZxVFwemq",
        "outputId": "7f6b4252-46f1-4a2f-ead9-95d7559a361a"
      },
      "execution_count": 4,
      "outputs": [
        {
          "output_type": "stream",
          "name": "stdout",
          "text": [
            "5 Tweet Pertama dengan #ArtificialIntelligence:\n",
            "\n",
            "1. RT @MSFTMechanics: Stop searching for updates. See how Copilot highlights what’s new &amp; what needs action across your Microsoft 365 environm…\n",
            "\n",
            "2. RT @Crypto_Colombus: Owning 1% of $JOS could be like owning 1% of #AI16z, $SNAI, $SWARMS, $HIVE, #GRIFFAIN, and so many others that ran to…\n",
            "\n",
            "3. Discover how AI can revolutionize your Shopify eCommerce business by enhancing customer experiences, automating operations, and boosting sales.\n",
            "\n",
            "🔗 Learn more: https://t.co/c7flbmcpXl\n",
            "\n",
            "#shopify #aiinshopify #artificialintelligence https://t.co/zjDNr0xU0m\n",
            "\n",
            "4. RT @sounds_nerdy: 1/5 - All the top tech stories from this week:\n",
            "\n",
            "Microsoft launches Recall and AI-powered Windows search for Copilot Plus…\n",
            "\n",
            "5. AI Fan Token (AI) Telegram group 🤑\n",
            "\n",
            " $AI To The Moon 🚀\n",
            "\n",
            " $AI #AIToTheMoon #AI #ArtificialIntelligence  #memecoin #memecoins #aiagent #aiagents #xai #\n",
            "\n"
          ]
        }
      ]
    },
    {
      "cell_type": "markdown",
      "source": [
        "REST API adalah standar komunikasi berbasis HTTP di mana setiap endpoint mewakili resource tertentu dan menggunakan metode seperti GET, POST, PUT, dan DELETE; kekurangannya, REST kadang mengirim terlalu banyak atau terlalu sedikit data. Sebaliknya, GraphQL adalah bahasa query untuk API yang memungkinkan client meminta hanya data yang dibutuhkan melalui satu endpoint, membuatnya lebih fleksibel dan efisien. REST cocok untuk sistem sederhana dengan struktur data yang stabil, sedangkan GraphQL lebih ideal untuk aplikasi kompleks yang membutuhkan pengambilan data spesifik dan relasi antar resource. Misalnya, REST menggunakan GET /users/1 untuk mengambil semua data user, sementara GraphQL cukup mengirim query khusus meminta hanya nama dan email user."
      ],
      "metadata": {
        "id": "W0hXG53xlBw4"
      }
    },
    {
      "cell_type": "code",
      "source": [
        "#Rest API\n",
        "\n",
        "GET https://api.example.com/users\n"
      ],
      "metadata": {
        "id": "F0cMBzwzlfUq"
      },
      "execution_count": 6,
      "outputs": []
    },
    {
      "cell_type": "code",
      "source": [
        "#GraphQL API\n",
        "\n",
        "{\n",
        "  user(id: 1) {\n",
        "    nama\n",
        "    email\n",
        "  }\n",
        "}\n"
      ],
      "metadata": {
        "id": "IlHtj2G_lq1y"
      },
      "execution_count": null,
      "outputs": []
    }
  ]
}